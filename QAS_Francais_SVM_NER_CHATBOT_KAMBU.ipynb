{
 "cells": [
  {
   "cell_type": "code",
   "execution_count": 1,
   "metadata": {},
   "outputs": [],
   "source": [
    "import spacy\n",
    "nlp = spacy.load(\"fr_core_news_sm\")"
   ]
  },
  {
   "cell_type": "code",
   "execution_count": 2,
   "metadata": {},
   "outputs": [],
   "source": [
    "import numpy as np\n",
    "import re # regular expressions\n",
    "from collections import defaultdict\n",
    "from sklearn.svm import SVC # Support Vector Classification model\n",
    "from nltk.chat.util import Chat, reflections"
   ]
  },
  {
   "cell_type": "code",
   "execution_count": 15,
   "metadata": {},
   "outputs": [],
   "source": [
    "pairs=[\n",
    "         [\"qu'est ce que la tuberculose(.*)|ce quoi la tuberculose(.*)|(.*)maladie de la tuberculose\",[\"La tuberculose est une maladie infectieuse causée par les bacilles ou bactéries de la tuberculose (appelés Mycobacterium tuberculosis). La forme de tuberculose la plus répandue est la tuberculose pulmonaire env. 70 pourcents des cas. D’autres formes de tuberculose, telle que la tuberculose lymphatique ou la tuberculose osseuse ne sont pas contagieuses\"]],\n",
    "         [\"(.*)transmet|(.*)transmission|(.*)propager|(.*)propagation|(.*)contaminer|(.*)contamination|(.*)contaminé|(.*)transmettre|(.*)propagé\",[\"Les bacilles de la tuberculose se transmettent d’une personne à l’autre par l’air. Lorsqu’elle tousse, la personne tuberculeuse projette dans l’air ambiant de microscopiques gouttelettes qui contiennent des bacilles de la tuberculose. Ces gouttelettes restent un certain temps dans l’air et peuvent donc être inspirées par d’autres personnes. Mais le risque de contamination n’existe qu’en cas de contact avec une personne souffrant d’une tuberculose pulmonaire contagieuse\"]],\n",
    "         [\"Quand parle-t-on d’une maladie tuberculeuse|Quand parle-t-on d’une tuberculose|Quand parle-t-on de la tuberculose|quand parle de la tuberculose\",[\"On parle d’une tuberculose lorsque les bacilles de la tuberculose prolifèrent dans les poumons, ce qui peut se produire des mois, voire des années après la contamination. Les bactéries de la tuberculose peuvent aussi toucher d’autres parties du corps par voie sanguine (par exemple les ganglions, le système nerveux central, les os). Ces formes de tuberculose ne sont toutefois pas contagieuses. La tuberculose est surtout dangereuse pour les enfants en bas âge et les personnes dont le système immunitaire est affaibli. Aujourd’hui, la tuberculose a de bonnes chances d’être guérie si elle est traitée correctement.\"]],\n",
    "         [\"(.*)symptômes|(.*)symptôme|(.*)symptomes|(.*)symptome\",[\"Au début, la maladie provoque peu de symptômes pénibles: toux (parfois sanguinolente), fatigue, légère fièvre et sudation nocturne. A un stade avancé d’autres symptômes peuvent apparaître tels que: perte de poids, perte d’appétit, douleurs dans la poitrine.\"]],\n",
    "         [\"tuberculose pulmonaire contagieuse|tuberculose pulmonaire\",[\"On parle de tuberculose pulmonaire contagieuse lorsque la maladie a progressé au point que la personne atteinte expectore des bacilles tuberculeux lorsqu’elle tousse (ou qu’elle éternue). Ce n’est qu’à ce stade de la maladie que la personne tuberculeuse peut contaminer d’autres personnes\"]],\n",
    "         [\"temps de contamination|temps pour contaminer|période contamination|durée pour contaminer\",[\"Une personne souffrant d’une tuberculose contagieuse est placée en isolement à l’hôpital ou à son domicile, ce qui signifie qu’elle est écartée de son entourage. Elle reste en isolement jusqu’à ce qu’elle ne soit plus contagieuse, à savoir en règle générale deux à trois semaines. Passé ce délai, elle n’est plus contagieuse. Mais elle doit poursuivre son traitement, sous contrôle médical, pendant environ six mois ou davantage jusqu’à ce qu’elle soit totalement guérie.\"]],\n",
    "         [\"(.*)être contaminé(.*)|(.*)de contamination(.*)|(.*)etre  contaminer(.*)|(.*)etre contaminé(.*)|(.*)être contaminer(.*)\",[\"Seules les personnes qui ont un contact très étroit (plusieurs heures dans la même pièce) avec une personne tuberculeuse et contagieuse courent un risque de contamination\"]],\n",
    "         [\"(.*)vaccin|(.*)vaccination\",[\"les vaccinations contre la tuberculose (BCG) d’autrefois n’offrent qu’une protection très limitée\"]],\n",
    "         [\"(.*)contacte avec un malade(.*)|(.*)précaution après contacte avec un malade(.*)|(.*)après contacte avec un malade(.*)|(.*)après contact(.*)|(.*)contacte avec un malade(.*)|(.*)après etre en contact(.*)|(.*)être en contact(.*)|(.*)etre en contact(.*)|(.*)été en contact(.*)|(.*)être en contacte(.*)|(.*)été en contacte(.*)\",[\"Le service spécialisé pour la tuberculose de la Ligue pulmonaire cantonale vous prodiguera gratuitement des conseils et des informations concernant tous les aspects de la tuberculose. Si vous avez été en contact très étroit avec une personne souffrant d’une tuberculose pulmonaire contagieuse (question 6), vous pouvez prendre rendez-vous avec ce service (adresses en annexe) pour vous informer et effectuer un test qui montrera si vous avez été contaminé\"]],\n",
    "         [\"(.*)contagion\",[\"Une contagion peut être mise en évidence au moyen d’un test cutané à la tuberculine ou d’un test sanguin(appelé aussi test interféron gamma).Le service spécialisé pour la tuberculose de la Ligue pulmonaire cantonale vous fournira volontiers des informations sur ces tests et sur l’interprétation de leurs résultats.\"]],\n",
    "         [\"(.*)test cutané(.*)|(.*)test sanguin(.*)\",[\"Les bacilles de la tuberculose ne se propagent que très lentement et une réaction immunologique n’apparaît qu’après plusieurs semaines. C’est pourquoi ce n’est qu’après huit semaines que l’on peut confirmer une contamination. Chez les enfants âgés de moins de douze ans, il existe un risque plus élevé qu’ils développent des formes dangereuses de tuberculose. Par ailleurs, à cet âge, la maladie peut progresser plus rapidement.C’est pourquoi, par simple mesure de sécurité, on procède chez eux à un test immédiatement après le dernier contact; selon le résultat du test, on le répète après huit autres semaines.\"]],\n",
    "         [\"(.*)résultat du test sanguin est positif(.*)|(.*)résultat positif(.*)|(.*)testé positif(.*)|(.*)tester positif(.*)|(.*)résultat du test sanguin(.*)\",[\"Un résultat de test positif signifie qu’un contact avec des bacilles tuberculeux a eu lieu. Le service spécialisé pour la tuberculose vous en informera ainsi que votre médecin traitant en vous demandant de convenir d’une date pour effectuer d’autres examens (radiographie, etc.) pour pouvoir confirmer ou exclure une tuberculose.\"]],\n",
    "         [\"(.*)J’ai été contaminé(.*)\",[\"Non! Une contamination ne signifie ni qu’on souffre de tuberculose, ni qu’on est contagieux. Ainsi, même si votre test sanguin est positif, vos proches ne sont pas en danger.\"]],\n",
    "         [\"(.*)traité(.*)|(.*)traitement(.*)\",[\"Une contamination prouvée est traitée par un antibiotique. Selon l’antibiotique utilisé, le traitement s’effectue sur une durée de quatre à neuf mois. Le traitement est recommandé, parce qu’il réduit de manière significative le risque de développer ultérieurement une tuberculose. La personne contaminée décide avec son médecin traitant si un tel traitement doit être effectué.\"]],\n",
    "         [\"(.*)prise en charge(.*)\",[\"Dans le domaine de la tuberculose, la prise en charge des frais est régie de manière différente selon les cantons. Le service spécialisé pour la tuberculose de la Ligue pulmonaire cantonale vous informera volontiers des dispositions applicables dans votre canton de domicile.\"]],\n",
    "         [\"bonjour|salut|(.*)tu|(.*)vous|(.*)comment|bonsoir\",[\"Salut\"]]\n",
    "         \n",
    "         ]"
   ]
  },
  {
   "cell_type": "code",
   "execution_count": 3,
   "metadata": {},
   "outputs": [],
   "source": [
    "output_format = \"IN: {input}\\nOUT: {output}\\n\" + \"_\"*50"
   ]
  },
  {
   "cell_type": "code",
   "execution_count": 4,
   "metadata": {},
   "outputs": [],
   "source": [
    "# hard-coded exact questions\n",
    "responses_exact = {\n",
    "    \"qu'est ce que la tuberculose?\": \"La tuberculose est une maladie infectieuse causée par les bacilles ou bactéries de la tuberculose (appelés Mycobacterium tuberculosis). La forme de tuberculose la plus répandue est la tuberculose pulmonaire env. 70 pourcents des cas. D’autres formes de tuberculose, telle que la tuberculose lymphatique ou la tuberculose osseuse ne sont pas contagieuses!\",\n",
    "    \"comment se transmet-elle?\": \"Les bacilles de la tuberculose se transmettent d’une personne à l’autre par l’air. Lorsqu’elle tousse, la personne tuberculeuse projette dans l’air ambiant de microscopiques gouttelettes qui contiennent des bacilles de la tuberculose. Ces gouttelettes restent un certain temps dans l’air et peuvent donc être inspirées par d’autres personnes. Mais le risque de contamination n’existe qu’en cas de contact avec une personne souffrant d’une tuberculose pulmonaire contagieuse.\",\n",
    "    \"Quand parle-t-on d’une maladie tuberculeuse?\": \"On parle d’une tuberculose lorsque les bacilles de la tuberculose prolifèrent dans les poumons, ce qui peut se produire des mois, voire des années après la contamination. Les bactéries de la tuberculose peuvent aussi toucher d’autres parties du corps par voie sanguine (par exemple les ganglions, le système nerveux central, les os). Ces formes de tuberculose ne sont toutefois pas contagieuses. La tuberculose est surtout dangereuse pour les enfants en bas âge et les personnes dont le système immunitaire est affaibli. Aujourd’hui, la tuberculose a de bonnes chances d’être guérie si elle est traitée correctement.\",\n",
    "    \"quel sont les symptômes?\": \"Au début, la maladie provoque peu de symptômes pénibles: toux (parfois sanguinolente), fatigue, légère fièvre et sudation nocturne. A un stade avancé d’autres symptômes peuvent apparaître tels que: perte de poids, perte d’appétit, douleurs dans la poitrine.\",\n",
    "    \"ce quoi la tuberculose pulmonaire contagieuse?\": \"On parle de tuberculose pulmonaire contagieuse lorsque la maladie a progressé au point que la personne atteinte expectore des bacilles tuberculeux lorsqu’elle tousse (ou qu’elle éternue). Ce n’est qu’à ce stade de la maladie que la personne tuberculeuse peut contaminer d’autres personnes.\",\n",
    "    \"quel est le temps de la contamination?\": \"Une personne souffrant d’une tuberculose contagieuse est placée en isolement à l’hôpital ou à son domicile, ce qui signifie qu’elle est écartée de son entourage. Elle reste en isolement jusqu’à ce qu’elle ne soit plus contagieuse, à savoir en règle générale deux à trois semaines. Passé ce délai, elle n’est plus contagieuse. Mais elle doit poursuivre son traitement, sous contrôle médical, pendant environ six mois ou davantage jusqu’à ce qu’elle soit totalement guérie.\",\n",
    "    \"qui peut être contaminé?\": \"Seules les personnes qui ont un contact très étroit (plusieurs heures dans la même pièce) avec une personne tuberculeuse et contagieuse courent un risque de contamination.\",\n",
    "    \"Existe - il un vaccin?\": \"les vaccinations contre la tuberculose (BCG) d’autrefois n’offrent qu’une protection très limitée.\",\n",
    "    \"Quel sont les précautions après contacte avec un malade?\": \"Le service spécialisé pour la tuberculose de la Ligue pulmonaire cantonale vous prodiguera gratuitement des conseils et des informations concernant tous les aspects de la tuberculose. Si vous avez été en contact très étroit avec une personne souffrant d’une tuberculose pulmonaire contagieuse, vous pouvez prendre rendez-vous avec ce service  pour vous informer et effectuer un test qui montrera si vous avez été contaminé.\",\n",
    "    \"contagion?\": \"Une contagion peut être mise en évidence au moyen d’un test cutané à la tuberculine ou d’un test sanguin(appelé aussi test interféron gamma).Le service spécialisé pour la tuberculose de la Ligue pulmonaire cantonale vous fournira volontiers des informations sur ces tests et sur l’interprétation de leurs résultats.\",\n",
    "    \"ce quoi test cutané?\": \"Les bacilles de la tuberculose ne se propagent que très lentement et une réaction immunologique n’apparaît qu’après plusieurs semaines. C’est pourquoi ce n’est qu’après huit semaines que l’on peut confirmer une contamination. Chez les enfants âgés de moins de douze ans, il existe un risque plus élevé qu’ils développent des formes dangereuses de tuberculose. Par ailleurs, à cet âge, la maladie peut progresser plus rapidement.C’est pourquoi, par simple mesure de sécurité, on procède chez eux à un test immédiatement après le dernier contact; selon le résultat du test, on le répète après huit autres semaines.\",\n",
    "    \"résultat du test sanguin est positif?\": \"Un résultat de test positif signifie qu’un contact avec des bacilles tuberculeux a eu lieu. Le service spécialisé pour la tuberculose vous en informera ainsi que votre médecin traitant en vous demandant de convenir d’une date pour effectuer d’autres examens (radiographie, etc.) pour pouvoir confirmer ou exclure une tuberculose.\",\n",
    "    \"J’ai été contaminé?\": \"Non! Une contamination ne signifie ni qu’on souffre de tuberculose, ni qu’on est contagieux. Ainsi, même si votre test sanguin est positif, vos proches ne sont pas en danger.\",\n",
    "    \"existe il un traitement?\": \"Une contamination prouvée est traitée par un antibiotique. Selon l’antibiotique utilisé, le traitement s’effectue sur une durée de quatre à neuf mois. Le traitement est recommandé, parce qu’il réduit de manière significative le risque de développer ultérieurement une tuberculose. La personne contaminée décide avec son médecin traitant si un tel traitement doit être effectué.\",\n",
    "    \"Comment se fait la prise en charge?\": \"Dans le domaine de la tuberculose, la prise en charge des frais est régie de manière différente selon les cantons. Le service spécialisé pour la tuberculose de la Ligue pulmonaire cantonale vous informera volontiers des dispositions applicables dans votre canton de domicile.\",\n",
    "    \"Bonjour?\": \"salut.\",\n",
    "    \"default\": \"je vous ai pas compris!\"\n",
    "}\n",
    "\n",
    "def respond_exact(text):\n",
    "    response = responses_exact.get(text.lower(), responses_exact['default'])\n",
    "    return(output_format.format(input=text, output=response))"
   ]
  },
  {
   "cell_type": "code",
   "execution_count": 5,
   "metadata": {},
   "outputs": [
    {
     "name": "stdout",
     "output_type": "stream",
     "text": [
      "IN: qu'est ce que la tuberculose?\n",
      "OUT: La tuberculose est une maladie infectieuse causée par les bacilles ou bactéries de la tuberculose (appelés Mycobacterium tuberculosis). La forme de tuberculose la plus répandue est la tuberculose pulmonaire env. 70 pourcents des cas. D’autres formes de tuberculose, telle que la tuberculose lymphatique ou la tuberculose osseuse ne sont pas contagieuses!\n",
      "__________________________________________________\n",
      "__________________________________________________\n",
      "IN: comment se transmet-elle?\n",
      "OUT: Les bacilles de la tuberculose se transmettent d’une personne à l’autre par l’air. Lorsqu’elle tousse, la personne tuberculeuse projette dans l’air ambiant de microscopiques gouttelettes qui contiennent des bacilles de la tuberculose. Ces gouttelettes restent un certain temps dans l’air et peuvent donc être inspirées par d’autres personnes. Mais le risque de contamination n’existe qu’en cas de contact avec une personne souffrant d’une tuberculose pulmonaire contagieuse.\n",
      "__________________________________________________\n",
      "__________________________________________________\n",
      "IN: Quand parle-t-on d’une maladie tuberculeuse?\n",
      "OUT: je vous ai pas compris!\n",
      "__________________________________________________\n",
      "__________________________________________________\n",
      "IN: quel sont les symptômes?\n",
      "OUT: Au début, la maladie provoque peu de symptômes pénibles: toux (parfois sanguinolente), fatigue, légère fièvre et sudation nocturne. A un stade avancé d’autres symptômes peuvent apparaître tels que: perte de poids, perte d’appétit, douleurs dans la poitrine.\n",
      "__________________________________________________\n",
      "__________________________________________________\n",
      "IN: ce quoi la tuberculose pulmonaire contagieuse?\n",
      "OUT: On parle de tuberculose pulmonaire contagieuse lorsque la maladie a progressé au point que la personne atteinte expectore des bacilles tuberculeux lorsqu’elle tousse (ou qu’elle éternue). Ce n’est qu’à ce stade de la maladie que la personne tuberculeuse peut contaminer d’autres personnes.\n",
      "__________________________________________________\n",
      "__________________________________________________\n",
      "IN: quel est le temps de la contamination?\n",
      "OUT: Une personne souffrant d’une tuberculose contagieuse est placée en isolement à l’hôpital ou à son domicile, ce qui signifie qu’elle est écartée de son entourage. Elle reste en isolement jusqu’à ce qu’elle ne soit plus contagieuse, à savoir en règle générale deux à trois semaines. Passé ce délai, elle n’est plus contagieuse. Mais elle doit poursuivre son traitement, sous contrôle médical, pendant environ six mois ou davantage jusqu’à ce qu’elle soit totalement guérie.\n",
      "__________________________________________________\n",
      "__________________________________________________\n",
      "IN: qui peut être contaminé?\n",
      "OUT: Seules les personnes qui ont un contact très étroit (plusieurs heures dans la même pièce) avec une personne tuberculeuse et contagieuse courent un risque de contamination.\n",
      "__________________________________________________\n",
      "__________________________________________________\n",
      "IN: Existe - il un vaccin?\n",
      "OUT: je vous ai pas compris!\n",
      "__________________________________________________\n",
      "__________________________________________________\n",
      "IN: Quel sont les précautions après contacte avec un malade?\n",
      "OUT: je vous ai pas compris!\n",
      "__________________________________________________\n",
      "__________________________________________________\n",
      "IN: contagion?\n",
      "OUT: Une contagion peut être mise en évidence au moyen d’un test cutané à la tuberculine ou d’un test sanguin(appelé aussi test interféron gamma).Le service spécialisé pour la tuberculose de la Ligue pulmonaire cantonale vous fournira volontiers des informations sur ces tests et sur l’interprétation de leurs résultats.\n",
      "__________________________________________________\n",
      "__________________________________________________\n",
      "IN: ce quoi test cutané?\n",
      "OUT: Les bacilles de la tuberculose ne se propagent que très lentement et une réaction immunologique n’apparaît qu’après plusieurs semaines. C’est pourquoi ce n’est qu’après huit semaines que l’on peut confirmer une contamination. Chez les enfants âgés de moins de douze ans, il existe un risque plus élevé qu’ils développent des formes dangereuses de tuberculose. Par ailleurs, à cet âge, la maladie peut progresser plus rapidement.C’est pourquoi, par simple mesure de sécurité, on procède chez eux à un test immédiatement après le dernier contact; selon le résultat du test, on le répète après huit autres semaines.\n",
      "__________________________________________________\n",
      "__________________________________________________\n",
      "IN: résultat du test sanguin est positif?\n",
      "OUT: Un résultat de test positif signifie qu’un contact avec des bacilles tuberculeux a eu lieu. Le service spécialisé pour la tuberculose vous en informera ainsi que votre médecin traitant en vous demandant de convenir d’une date pour effectuer d’autres examens (radiographie, etc.) pour pouvoir confirmer ou exclure une tuberculose.\n",
      "__________________________________________________\n",
      "__________________________________________________\n",
      "IN: J’ai été contaminé?\n",
      "OUT: je vous ai pas compris!\n",
      "__________________________________________________\n",
      "__________________________________________________\n",
      "IN: existe il un traitement?\n",
      "OUT: Une contamination prouvée est traitée par un antibiotique. Selon l’antibiotique utilisé, le traitement s’effectue sur une durée de quatre à neuf mois. Le traitement est recommandé, parce qu’il réduit de manière significative le risque de développer ultérieurement une tuberculose. La personne contaminée décide avec son médecin traitant si un tel traitement doit être effectué.\n",
      "__________________________________________________\n",
      "__________________________________________________\n",
      "IN: Comment se fait la prise en charge?\n",
      "OUT: je vous ai pas compris!\n",
      "__________________________________________________\n",
      "__________________________________________________\n",
      "IN: Bonjour?\n",
      "OUT: je vous ai pas compris!\n",
      "__________________________________________________\n",
      "__________________________________________________\n",
      "IN: je suis en couple.\n",
      "OUT: je vous ai pas compris!\n",
      "__________________________________________________\n"
     ]
    }
   ],
   "source": [
    "print(respond_exact(\"qu'est ce que la tuberculose?\"))\n",
    "print(\"_\"*50)\n",
    "print(respond_exact(\"comment se transmet-elle?\"))\n",
    "print(\"_\"*50)\n",
    "print(respond_exact(\"Quand parle-t-on d’une maladie tuberculeuse?\"))\n",
    "print(\"_\"*50)\n",
    "print(respond_exact(\"quel sont les symptômes?\"))\n",
    "print(\"_\"*50)\n",
    "print(respond_exact(\"ce quoi la tuberculose pulmonaire contagieuse?\"))\n",
    "print(\"_\"*50)\n",
    "print(respond_exact(\"quel est le temps de la contamination?\"))\n",
    "print(\"_\"*50)\n",
    "print(respond_exact(\"qui peut être contaminé?\"))\n",
    "print(\"_\"*50)\n",
    "print(respond_exact(\"Existe - il un vaccin?\"))\n",
    "print(\"_\"*50)\n",
    "print(respond_exact(\"Quel sont les précautions après contacte avec un malade?\"))\n",
    "print(\"_\"*50)\n",
    "print(respond_exact(\"contagion?\"))\n",
    "print(\"_\"*50)\n",
    "print(respond_exact(\"ce quoi test cutané?\"))\n",
    "print(\"_\"*50)\n",
    "print(respond_exact(\"résultat du test sanguin est positif?\"))\n",
    "print(\"_\"*50)\n",
    "print(respond_exact(\"J’ai été contaminé?\"))\n",
    "print(\"_\"*50)\n",
    "print(respond_exact(\"existe il un traitement?\"))\n",
    "print(\"_\"*50)\n",
    "print(respond_exact(\"Comment se fait la prise en charge?\"))\n",
    "print(\"_\"*50)\n",
    "print(respond_exact(\"Bonjour?\"))\n",
    "print(\"_\"*50)\n",
    "print(respond_exact(\"je suis en couple.\"))"
   ]
  },
  {
   "cell_type": "code",
   "execution_count": 6,
   "metadata": {},
   "outputs": [],
   "source": [
    "# Définissez des mots clés qui peuvent aider à déterminer l'intention \n",
    "intent_keywords = {\n",
    "    'motif_1': ['ce quoi la tuberculose', 'maladie de la tuberculose','la tuberculose'],\n",
    "    'motif_2': ['transmet', 'transmission', 'propager', 'propagation','contaminer','contamination','contaminé','transmettre','propagé'],\n",
    "    'motif_3': ['Quand'],\n",
    "    'motif_4': ['symptômes', 'symptôme', 'symptomes', 'symptome'],\n",
    "    \n",
    "    'motif_5': ['tuberculose pulmonaire contagieuse', 'tuberculose pulmonaire'],\n",
    "    'motif_6': ['temps de contamination', 'temps pour contaminer', 'période contamination', 'durée pour contaminer'],\n",
    "    \n",
    "    'motif_7': ['être contaminé', 'de contamination'],\n",
    "    'motif_8': ['vaccin', 'vaccination'],\n",
    "    \n",
    "    'motif_9': ['précaution', 'contact', 'en contact'],\n",
    "    'motif_10': ['contagion'],\n",
    "    \n",
    "    'motif_11': ['test'],\n",
    "    'motif_12': ['résultat', 'positif'],\n",
    "    \n",
    "    'motif_13': ['proches', 'proche'],\n",
    "    'motif_14': ['traité', 'traitement'],\n",
    "    \n",
    "    'motif_15': ['prise en charge', 'en charge'],\n",
    "    'motif_16': ['bonjour', 'salut', 'bonsoir', 'ca vas'],\n",
    "}\n",
    "# Create a dictionary of patterns\n",
    "patterns = {intent: re.compile('|'.join(keys)) for intent, keys in intent_keywords.items()}\n",
    "\n",
    "# Define a function to find the intent of a message\n",
    "def get_intent_re(message):\n",
    "    for intent, pattern in patterns.items():\n",
    "        # Check if the pattern occurs in the message \n",
    "        if pattern.search(message):\n",
    "            return(intent)\n",
    "    else:\n",
    "        return('default')\n",
    "\n",
    "responses_re = {\n",
    "\n",
    "    \n",
    "    \"motif_1\": \"La tuberculose est une maladie infectieuse causée par les bacilles ou bactéries de la tuberculose (appelés Mycobacterium tuberculosis). La forme de tuberculose la plus répandue est la tuberculose pulmonaire env. 70 pourcents des cas. D’autres formes de tuberculose, telle que la tuberculose lymphatique ou la tuberculose osseuse ne sont pas contagieuses!\",\n",
    "    \"motif_2\": \"Les bacilles de la tuberculose se transmettent d’une personne à l’autre par l’air. Lorsqu’elle tousse, la personne tuberculeuse projette dans l’air ambiant de microscopiques gouttelettes qui contiennent des bacilles de la tuberculose. Ces gouttelettes restent un certain temps dans l’air et peuvent donc être inspirées par d’autres personnes. Mais le risque de contamination n’existe qu’en cas de contact avec une personne souffrant d’une tuberculose pulmonaire contagieuse.\",\n",
    "    \"motif_3\": \"On parle d’une tuberculose lorsque les bacilles de la tuberculose prolifèrent dans les poumons, ce qui peut se produire des mois, voire des années après la contamination. Les bactéries de la tuberculose peuvent aussi toucher d’autres parties du corps par voie sanguine (par exemple les ganglions, le système nerveux central, les os). Ces formes de tuberculose ne sont toutefois pas contagieuses. La tuberculose est surtout dangereuse pour les enfants en bas âge et les personnes dont le système immunitaire est affaibli. Aujourd’hui, la tuberculose a de bonnes chances d’être guérie si elle est traitée correctement.\",\n",
    "    \"motif_4\": \"Au début, la maladie provoque peu de symptômes pénibles: toux (parfois sanguinolente), fatigue, légère fièvre et sudation nocturne. A un stade avancé d’autres symptômes peuvent apparaître tels que: perte de poids, perte d’appétit, douleurs dans la poitrine.\",\n",
    "    \"motif_5\": \"On parle de tuberculose pulmonaire contagieuse lorsque la maladie a progressé au point que la personne atteinte expectore des bacilles tuberculeux lorsqu’elle tousse (ou qu’elle éternue). Ce n’est qu’à ce stade de la maladie que la personne tuberculeuse peut contaminer d’autres personnes.\",\n",
    "    \"motif_6\": \"Une personne souffrant d’une tuberculose contagieuse est placée en isolement à l’hôpital ou à son domicile, ce qui signifie qu’elle est écartée de son entourage. Elle reste en isolement jusqu’à ce qu’elle ne soit plus contagieuse, à savoir en règle générale deux à trois semaines. Passé ce délai, elle n’est plus contagieuse. Mais elle doit poursuivre son traitement, sous contrôle médical, pendant environ six mois ou davantage jusqu’à ce qu’elle soit totalement guérie.\",\n",
    "    \"motif_7\": \"Seules les personnes qui ont un contact très étroit (plusieurs heures dans la même pièce) avec une personne tuberculeuse et contagieuse courent un risque de contamination.\",\n",
    "    \"motif_8\": \"les vaccinations contre la tuberculose (BCG) d’autrefois n’offrent qu’une protection très limitée.\",\n",
    "    \"motif_9\": \"Le service spécialisé pour la tuberculose de la Ligue pulmonaire cantonale vous prodiguera gratuitement des conseils et des informations concernant tous les aspects de la tuberculose. Si vous avez été en contact très étroit avec une personne souffrant d’une tuberculose pulmonaire contagieuse, vous pouvez prendre rendez-vous avec ce service  pour vous informer et effectuer un test qui montrera si vous avez été contaminé.\",\n",
    "    \"motif_10\": \"Une contagion peut être mise en évidence au moyen d’un test cutané à la tuberculine ou d’un test sanguin(appelé aussi test interféron gamma).Le service spécialisé pour la tuberculose de la Ligue pulmonaire cantonale vous fournira volontiers des informations sur ces tests et sur l’interprétation de leurs résultats.\",\n",
    "    \"motif_11\": \"Les bacilles de la tuberculose ne se propagent que très lentement et une réaction immunologique n’apparaît qu’après plusieurs semaines. C’est pourquoi ce n’est qu’après huit semaines que l’on peut confirmer une contamination. Chez les enfants âgés de moins de douze ans, il existe un risque plus élevé qu’ils développent des formes dangereuses de tuberculose. Par ailleurs, à cet âge, la maladie peut progresser plus rapidement.C’est pourquoi, par simple mesure de sécurité, on procède chez eux à un test immédiatement après le dernier contact; selon le résultat du test, on le répète après huit autres semaines.\",\n",
    "    \"motif_12\": \"Un résultat de test positif signifie qu’un contact avec des bacilles tuberculeux a eu lieu. Le service spécialisé pour la tuberculose vous en informera ainsi que votre médecin traitant en vous demandant de convenir d’une date pour effectuer d’autres examens (radiographie, etc.) pour pouvoir confirmer ou exclure une tuberculose.\",\n",
    "    \"motif_13\": \"Non! Une contamination ne signifie ni qu’on souffre de tuberculose, ni qu’on est contagieux. Ainsi, même si votre test sanguin est positif, vos proches ne sont pas en danger.\",\n",
    "    \"motif_14\": \"Une contamination prouvée est traitée par un antibiotique. Selon l’antibiotique utilisé, le traitement s’effectue sur une durée de quatre à neuf mois. Le traitement est recommandé, parce qu’il réduit de manière significative le risque de développer ultérieurement une tuberculose. La personne contaminée décide avec son médecin traitant si un tel traitement doit être effectué.\",\n",
    "    \"motif_15\": \"Dans le domaine de la tuberculose, la prise en charge des frais est régie de manière différente selon les cantons. Le service spécialisé pour la tuberculose de la Ligue pulmonaire cantonale vous informera volontiers des dispositions applicables dans votre canton de domicile.\",\n",
    "    \"motif_16\": \"salut.\",\n",
    "    \"default\": \"je vous ai pas compris!\"\n",
    "    \n",
    "    \n",
    "    \n",
    "    \n",
    "    \n",
    "}\n",
    "\n",
    "def respond_re(text):\n",
    "    response = responses_re.get(get_intent_re(text))\n",
    "    return(output_format.format(input=text, output=response))"
   ]
  },
  {
   "cell_type": "code",
   "execution_count": 7,
   "metadata": {},
   "outputs": [
    {
     "name": "stdout",
     "output_type": "stream",
     "text": [
      "IN: ce quoi la contagion?\n",
      "OUT: Une contagion peut être mise en évidence au moyen d’un test cutané à la tuberculine ou d’un test sanguin(appelé aussi test interféron gamma).Le service spécialisé pour la tuberculose de la Ligue pulmonaire cantonale vous fournira volontiers des informations sur ces tests et sur l’interprétation de leurs résultats.\n",
      "__________________________________________________\n",
      "IN: c'est quoi la tuberculose?\n",
      "OUT: La tuberculose est une maladie infectieuse causée par les bacilles ou bactéries de la tuberculose (appelés Mycobacterium tuberculosis). La forme de tuberculose la plus répandue est la tuberculose pulmonaire env. 70 pourcents des cas. D’autres formes de tuberculose, telle que la tuberculose lymphatique ou la tuberculose osseuse ne sont pas contagieuses!\n",
      "__________________________________________________\n",
      "IN: bonsoir\n",
      "OUT: salut.\n",
      "__________________________________________________\n"
     ]
    }
   ],
   "source": [
    "print(respond_re(\"ce quoi la contagion?\"))\n",
    "print(respond_re(\"c'est quoi la tuberculose?\"))\n",
    "print(respond_re(\"bonsoir\"))"
   ]
  },
  {
   "cell_type": "code",
   "execution_count": 8,
   "metadata": {},
   "outputs": [],
   "source": [
    "# Create training data\n",
    "training_sentences = [\n",
    "\n",
    "    \"qu'est ce que la tuberculose?\",\n",
    "    \"comment se transmet-elle?\",\n",
    "    \"Quand parle-t-on d’une maladie tuberculeuse?\",\n",
    "    \"quel sont les symptômes?\",\n",
    "    \"ce quoi la tuberculose pulmonaire contagieuse?\",\n",
    "    \"quel est le temps de la contamination?\",\n",
    "    \"qui peut être contaminé?\",\n",
    "    \"Existe - il un vaccin?\",\n",
    "    \"Quel sont les précautions après contacte avec un malade?\",\n",
    "    \"contagion?\",\n",
    "    \"ce quoi test cutané?\",\n",
    "    \"résultat du test sanguin est positif?\",\n",
    "    \"J’ai été contaminé?\",\n",
    "    \"existe il un traitement?\",\n",
    "    \"Comment se fait la prise en charge?\",\n",
    "    \"Bonjour?\"   \n",
    "    \n",
    "]\n",
    "training_intents = [\n",
    "    \"motif_1\",\n",
    "     \"motif_2\",\n",
    "     \"motif_3\",\n",
    "     \"motif_4\",\n",
    "     \"motif_5\",\n",
    "     \"motif_6\",\n",
    "     \"motif_7\",\n",
    "     \"motif_8\",\n",
    "     \"motif_9\",\n",
    "     \"motif_10\",\n",
    "     \"motif_11\",\n",
    "     \"motif_12\",\n",
    "     \"motif_13\",\n",
    "     \"motif_14\",\n",
    "     \"motif_15\",\n",
    "     \"motif_16\"\n",
    "    \n",
    "   \n",
    "]"
   ]
  },
  {
   "cell_type": "code",
   "execution_count": 9,
   "metadata": {},
   "outputs": [
    {
     "name": "stdout",
     "output_type": "stream",
     "text": [
      "\u001b[38;5;2m✔ Download and installation successful\u001b[0m\n",
      "You can now load the model via spacy.load('fr_core_news_lg')\n"
     ]
    }
   ],
   "source": [
    "import spacy.cli\n",
    "spacy.cli.download(\"fr_core_news_lg\")\n",
    "import fr_core_news_lg\n",
    "nlp = fr_core_news_lg.load()\n"
   ]
  },
  {
   "cell_type": "code",
   "execution_count": 10,
   "metadata": {},
   "outputs": [],
   "source": [
    "# Initialize the array with zeros: X\n",
    "X_train = np.zeros((len(training_sentences), \n",
    "              nlp('sentences').vocab.vectors_length))\n",
    "\n",
    "for i, sentence in enumerate(training_sentences):\n",
    "    # Pass each each sentence to the nlp object to create a document\n",
    "    doc = nlp(sentence)\n",
    "    # Save the document's .vector attribute to the corresponding row in X\n",
    "    X_train[i, :] = doc.vector"
   ]
  },
  {
   "cell_type": "code",
   "execution_count": 11,
   "metadata": {},
   "outputs": [
    {
     "data": {
      "text/plain": [
       "SVC(C=1, gamma='auto', probability=True)"
      ]
     },
     "execution_count": 11,
     "metadata": {},
     "output_type": "execute_result"
    }
   ],
   "source": [
    "# Create a support vector classifier\n",
    "clf = SVC(C=1, gamma=\"auto\", probability=True)\n",
    "\n",
    "# Fit the classifier using the training data\n",
    "clf.fit(X_train, training_intents)\n",
    "\n",
    "#Yes, a lot can be done here to check / improve model performance! We will leave that for another day!"
   ]
  },
  {
   "cell_type": "code",
   "execution_count": 12,
   "metadata": {},
   "outputs": [],
   "source": [
    "def get_intent_ml(text):\n",
    "    doc = nlp(text)\n",
    "    return(clf.predict([doc.vector])[0])"
   ]
  },
  {
   "cell_type": "code",
   "execution_count": 13,
   "metadata": {},
   "outputs": [],
   "source": [
    "responses_ml = {\n",
    "\n",
    "    \"motif_1\": \"La tuberculose est une maladie infectieuse causée par les bacilles ou bactéries de la tuberculose (appelés Mycobacterium tuberculosis). La forme de tuberculose la plus répandue est la tuberculose pulmonaire env. 70 pourcents des cas. D’autres formes de tuberculose, telle que la tuberculose lymphatique ou la tuberculose osseuse ne sont pas contagieuses!\",\n",
    "    \"motif_2\": \"Les bacilles de la tuberculose se transmettent d’une personne à l’autre par l’air. Lorsqu’elle tousse, la personne tuberculeuse projette dans l’air ambiant de microscopiques gouttelettes qui contiennent des bacilles de la tuberculose. Ces gouttelettes restent un certain temps dans l’air et peuvent donc être inspirées par d’autres personnes. Mais le risque de contamination n’existe qu’en cas de contact avec une personne souffrant d’une tuberculose pulmonaire contagieuse.\",\n",
    "    \"motif_3\": \"On parle d’une tuberculose lorsque les bacilles de la tuberculose prolifèrent dans les poumons, ce qui peut se produire des mois, voire des années après la contamination. Les bactéries de la tuberculose peuvent aussi toucher d’autres parties du corps par voie sanguine (par exemple les ganglions, le système nerveux central, les os). Ces formes de tuberculose ne sont toutefois pas contagieuses. La tuberculose est surtout dangereuse pour les enfants en bas âge et les personnes dont le système immunitaire est affaibli. Aujourd’hui, la tuberculose a de bonnes chances d’être guérie si elle est traitée correctement.\",\n",
    "    \"motif_4\": \"Au début, la maladie provoque peu de symptômes pénibles: toux (parfois sanguinolente), fatigue, légère fièvre et sudation nocturne. A un stade avancé d’autres symptômes peuvent apparaître tels que: perte de poids, perte d’appétit, douleurs dans la poitrine.\",\n",
    "    \"motif_5\": \"On parle de tuberculose pulmonaire contagieuse lorsque la maladie a progressé au point que la personne atteinte expectore des bacilles tuberculeux lorsqu’elle tousse (ou qu’elle éternue). Ce n’est qu’à ce stade de la maladie que la personne tuberculeuse peut contaminer d’autres personnes.\",\n",
    "    \"motif_6\": \"Une personne souffrant d’une tuberculose contagieuse est placée en isolement à l’hôpital ou à son domicile, ce qui signifie qu’elle est écartée de son entourage. Elle reste en isolement jusqu’à ce qu’elle ne soit plus contagieuse, à savoir en règle générale deux à trois semaines. Passé ce délai, elle n’est plus contagieuse. Mais elle doit poursuivre son traitement, sous contrôle médical, pendant environ six mois ou davantage jusqu’à ce qu’elle soit totalement guérie.\",\n",
    "    \"motif_7\": \"Seules les personnes qui ont un contact très étroit (plusieurs heures dans la même pièce) avec une personne tuberculeuse et contagieuse courent un risque de contamination.\",\n",
    "    \"motif_8\": \"les vaccinations contre la tuberculose (BCG) d’autrefois n’offrent qu’une protection très limitée.\",\n",
    "    \"motif_9\": \"Le service spécialisé pour la tuberculose de la Ligue pulmonaire cantonale vous prodiguera gratuitement des conseils et des informations concernant tous les aspects de la tuberculose. Si vous avez été en contact très étroit avec une personne souffrant d’une tuberculose pulmonaire contagieuse, vous pouvez prendre rendez-vous avec ce service  pour vous informer et effectuer un test qui montrera si vous avez été contaminé.\",\n",
    "    \"motif_10\": \"Une contagion peut être mise en évidence au moyen d’un test cutané à la tuberculine ou d’un test sanguin(appelé aussi test interféron gamma).Le service spécialisé pour la tuberculose de la Ligue pulmonaire cantonale vous fournira volontiers des informations sur ces tests et sur l’interprétation de leurs résultats.\",\n",
    "    \"motif_11\": \"Les bacilles de la tuberculose ne se propagent que très lentement et une réaction immunologique n’apparaît qu’après plusieurs semaines. C’est pourquoi ce n’est qu’après huit semaines que l’on peut confirmer une contamination. Chez les enfants âgés de moins de douze ans, il existe un risque plus élevé qu’ils développent des formes dangereuses de tuberculose. Par ailleurs, à cet âge, la maladie peut progresser plus rapidement.C’est pourquoi, par simple mesure de sécurité, on procède chez eux à un test immédiatement après le dernier contact; selon le résultat du test, on le répète après huit autres semaines.\",\n",
    "    \"motif_12\": \"Un résultat de test positif signifie qu’un contact avec des bacilles tuberculeux a eu lieu. Le service spécialisé pour la tuberculose vous en informera ainsi que votre médecin traitant en vous demandant de convenir d’une date pour effectuer d’autres examens (radiographie, etc.) pour pouvoir confirmer ou exclure une tuberculose.\",\n",
    "    \"motif_13\": \"Non! Une contamination ne signifie ni qu’on souffre de tuberculose, ni qu’on est contagieux. Ainsi, même si votre test sanguin est positif, vos proches ne sont pas en danger.\",\n",
    "    \"motif_14\": \"Une contamination prouvée est traitée par un antibiotique. Selon l’antibiotique utilisé, le traitement s’effectue sur une durée de quatre à neuf mois. Le traitement est recommandé, parce qu’il réduit de manière significative le risque de développer ultérieurement une tuberculose. La personne contaminée décide avec son médecin traitant si un tel traitement doit être effectué.\",\n",
    "    \"motif_15\": \"Dans le domaine de la tuberculose, la prise en charge des frais est régie de manière différente selon les cantons. Le service spécialisé pour la tuberculose de la Ligue pulmonaire cantonale vous informera volontiers des dispositions applicables dans votre canton de domicile.\",\n",
    "    \"motif_16\": \"salut\",\n",
    "    \"default\": \"je vous ai pas compris!\"   \n",
    "    \n",
    "}\n",
    "\n",
    "def respond_ml(text):\n",
    "    response = responses_ml.get(get_intent_ml(text), responses_ml[\"default\"])\n",
    "    return(output_format.format(input=text, output=response))"
   ]
  },
  {
   "cell_type": "code",
   "execution_count": 14,
   "metadata": {},
   "outputs": [
    {
     "name": "stdout",
     "output_type": "stream",
     "text": [
      "IN: la contamination?\n",
      "OUT: Une personne souffrant d’une tuberculose contagieuse est placée en isolement à l’hôpital ou à son domicile, ce qui signifie qu’elle est écartée de son entourage. Elle reste en isolement jusqu’à ce qu’elle ne soit plus contagieuse, à savoir en règle générale deux à trois semaines. Passé ce délai, elle n’est plus contagieuse. Mais elle doit poursuivre son traitement, sous contrôle médical, pendant environ six mois ou davantage jusqu’à ce qu’elle soit totalement guérie.\n",
      "__________________________________________________\n",
      "IN: la tuberculose ce quoi?\n",
      "OUT: On parle de tuberculose pulmonaire contagieuse lorsque la maladie a progressé au point que la personne atteinte expectore des bacilles tuberculeux lorsqu’elle tousse (ou qu’elle éternue). Ce n’est qu’à ce stade de la maladie que la personne tuberculeuse peut contaminer d’autres personnes.\n",
      "__________________________________________________\n"
     ]
    }
   ],
   "source": [
    "print(respond_ml(\"la contamination?\"))\n",
    "print(respond_ml(\"la tuberculose ce quoi?\"))"
   ]
  },
  {
   "cell_type": "code",
   "execution_count": null,
   "metadata": {},
   "outputs": [
    {
     "name": "stdout",
     "output_type": "stream",
     "text": [
      ">qu'est ce que la tuberculose\n",
      "La tuberculose est une maladie infectieuse causée par les bacilles ou bactéries de la tuberculose (appelés Mycobacterium tuberculosis). La forme de tuberculose la plus répandue est la tuberculose pulmonaire env. 70 pourcents des cas. D’autres formes de tuberculose, telle que la tuberculose lymphatique ou la tuberculose osseuse ne sont pas contagieuses\n",
      ">mode de transmission\n",
      "Les bacilles de la tuberculose se transmettent d’une personne à l’autre par l’air. Lorsqu’elle tousse, la personne tuberculeuse projette dans l’air ambiant de microscopiques gouttelettes qui contiennent des bacilles de la tuberculose. Ces gouttelettes restent un certain temps dans l’air et peuvent donc être inspirées par d’autres personnes. Mais le risque de contamination n’existe qu’en cas de contact avec une personne souffrant d’une tuberculose pulmonaire contagieuse\n",
      ">temps d'incubation\n",
      "None\n",
      ">inccubation\n",
      "None\n"
     ]
    }
   ],
   "source": [
    "chat=Chat(pairs)\n",
    "chat.converse()\n"
   ]
  },
  {
   "cell_type": "code",
   "execution_count": null,
   "metadata": {},
   "outputs": [],
   "source": []
  }
 ],
 "metadata": {
  "kernelspec": {
   "display_name": "Python 3",
   "language": "python",
   "name": "python3"
  },
  "language_info": {
   "codemirror_mode": {
    "name": "ipython",
    "version": 3
   },
   "file_extension": ".py",
   "mimetype": "text/x-python",
   "name": "python",
   "nbconvert_exporter": "python",
   "pygments_lexer": "ipython3",
   "version": "3.6.10"
  }
 },
 "nbformat": 4,
 "nbformat_minor": 4
}
